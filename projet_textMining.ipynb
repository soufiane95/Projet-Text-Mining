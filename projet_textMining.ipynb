{
 "cells": [
  {
   "cell_type": "markdown",
   "metadata": {},
   "source": [
    "# Text Mining Project MLDS - Subject 3\n",
    "\n",
    "---\n",
    "<b>Authors :</b> \n",
    "<li>FHIYIL SOUFIANE</li>\n",
    "<li>MOUHDA MOHAMMED REDA</li>\n",
    "<li>JAMAL AOURRAZ</li>"
   ]
  },
  {
   "cell_type": "code",
   "execution_count": 1150,
   "metadata": {},
   "outputs": [],
   "source": [
    "import matplotlib\n",
    "import numpy as np\n",
    "import matplotlib.pyplot as plt\n",
    "import seaborn as sns\n",
    "import pandas as pd\n",
    "import nltk\n",
    "from nltk.corpus import stopwords                   #Stopwords corpus\n",
    "from nltk.stem import PorterStemmer                 # Stemmer\n",
    "import random\n",
    "\n",
    "%matplotlib inline"
   ]
  },
  {
   "cell_type": "markdown",
   "metadata": {},
   "source": [
    "## Create our dataset (Jeux de données)"
   ]
  },
  {
   "cell_type": "markdown",
   "metadata": {},
   "source": [
    "---\n",
    "#### read the data \"NG5\""
   ]
  },
  {
   "cell_type": "code",
   "execution_count": 1151,
   "metadata": {},
   "outputs": [],
   "source": [
    "from sklearn.datasets import fetch_20newsgroups\n",
    "\n",
    "categories = [ 'rec.motorcycles', 'rec.sport.baseball', 'comp.graphics', 'sci.space', 'talk.politics.mideast' ] \n",
    "ng5 = fetch_20newsgroups(categories=categories) \n",
    "documents = ng5.data"
   ]
  },
  {
   "cell_type": "code",
   "execution_count": 1152,
   "metadata": {},
   "outputs": [
    {
     "data": {
      "text/plain": [
       "array([2, 4, 0, ..., 0, 0, 4])"
      ]
     },
     "execution_count": 1152,
     "metadata": {},
     "output_type": "execute_result"
    }
   ],
   "source": [
    "ng5.target"
   ]
  },
  {
   "cell_type": "code",
   "execution_count": 1153,
   "metadata": {},
   "outputs": [
    {
     "data": {
      "text/plain": [
       "2936"
      ]
     },
     "execution_count": 1153,
     "metadata": {},
     "output_type": "execute_result"
    }
   ],
   "source": [
    "len(documents)"
   ]
  },
  {
   "cell_type": "code",
   "execution_count": 1154,
   "metadata": {},
   "outputs": [],
   "source": [
    "documents_df = pd.DataFrame(np.c_[documents, ng5.target], columns=['document','target'])"
   ]
  },
  {
   "cell_type": "code",
   "execution_count": 1155,
   "metadata": {},
   "outputs": [],
   "source": [
    "documents_df['index']=documents_df.index"
   ]
  },
  {
   "cell_type": "code",
   "execution_count": 1156,
   "metadata": {},
   "outputs": [
    {
     "data": {
      "text/html": [
       "<div>\n",
       "<style scoped>\n",
       "    .dataframe tbody tr th:only-of-type {\n",
       "        vertical-align: middle;\n",
       "    }\n",
       "\n",
       "    .dataframe tbody tr th {\n",
       "        vertical-align: top;\n",
       "    }\n",
       "\n",
       "    .dataframe thead th {\n",
       "        text-align: right;\n",
       "    }\n",
       "</style>\n",
       "<table border=\"1\" class=\"dataframe\">\n",
       "  <thead>\n",
       "    <tr style=\"text-align: right;\">\n",
       "      <th></th>\n",
       "      <th>document</th>\n",
       "      <th>target</th>\n",
       "      <th>index</th>\n",
       "    </tr>\n",
       "  </thead>\n",
       "  <tbody>\n",
       "    <tr>\n",
       "      <th>0</th>\n",
       "      <td>From: tedward@cs.cornell.edu (Edward [Ted] Fis...</td>\n",
       "      <td>2</td>\n",
       "      <td>0</td>\n",
       "    </tr>\n",
       "    <tr>\n",
       "      <th>1</th>\n",
       "      <td>From: eshneken@ux4.cso.uiuc.edu (Edward A Shne...</td>\n",
       "      <td>4</td>\n",
       "      <td>1</td>\n",
       "    </tr>\n",
       "    <tr>\n",
       "      <th>2</th>\n",
       "      <td>From: u7711501@bicmos.ee.nctu.edu.tw (jih-shin...</td>\n",
       "      <td>0</td>\n",
       "      <td>2</td>\n",
       "    </tr>\n",
       "    <tr>\n",
       "      <th>3</th>\n",
       "      <td>From: jerry@sheldev.shel.isc-br.com (Gerald La...</td>\n",
       "      <td>2</td>\n",
       "      <td>3</td>\n",
       "    </tr>\n",
       "    <tr>\n",
       "      <th>4</th>\n",
       "      <td>From: arens@ISI.EDU (Yigal Arens)\\nSubject: Mo...</td>\n",
       "      <td>4</td>\n",
       "      <td>4</td>\n",
       "    </tr>\n",
       "  </tbody>\n",
       "</table>\n",
       "</div>"
      ],
      "text/plain": [
       "                                            document target  index\n",
       "0  From: tedward@cs.cornell.edu (Edward [Ted] Fis...      2      0\n",
       "1  From: eshneken@ux4.cso.uiuc.edu (Edward A Shne...      4      1\n",
       "2  From: u7711501@bicmos.ee.nctu.edu.tw (jih-shin...      0      2\n",
       "3  From: jerry@sheldev.shel.isc-br.com (Gerald La...      2      3\n",
       "4  From: arens@ISI.EDU (Yigal Arens)\\nSubject: Mo...      4      4"
      ]
     },
     "execution_count": 1156,
     "metadata": {},
     "output_type": "execute_result"
    }
   ],
   "source": [
    "documents_df.head()"
   ]
  },
  {
   "cell_type": "markdown",
   "metadata": {},
   "source": [
    "#### Visualize lenght of documents"
   ]
  },
  {
   "cell_type": "code",
   "execution_count": 1157,
   "metadata": {},
   "outputs": [],
   "source": [
    "lenghts = []\n",
    "for d in documents:\n",
    "    lenghts.append(len(d))"
   ]
  },
  {
   "cell_type": "code",
   "execution_count": 1158,
   "metadata": {},
   "outputs": [],
   "source": [
    "T = range(0, len(documents))"
   ]
  },
  {
   "cell_type": "code",
   "execution_count": 1159,
   "metadata": {},
   "outputs": [],
   "source": [
    "lenghts_data = pd.DataFrame(np.c_[T,lenghts],columns=['document','lenght'])"
   ]
  },
  {
   "cell_type": "code",
   "execution_count": 1160,
   "metadata": {},
   "outputs": [
    {
     "data": {
      "text/plain": [
       "(2936, 2936)"
      ]
     },
     "execution_count": 1160,
     "metadata": {},
     "output_type": "execute_result"
    }
   ],
   "source": [
    "len(T),len(lenghts)"
   ]
  },
  {
   "cell_type": "code",
   "execution_count": 1161,
   "metadata": {},
   "outputs": [
    {
     "data": {
      "text/html": [
       "<div>\n",
       "<style scoped>\n",
       "    .dataframe tbody tr th:only-of-type {\n",
       "        vertical-align: middle;\n",
       "    }\n",
       "\n",
       "    .dataframe tbody tr th {\n",
       "        vertical-align: top;\n",
       "    }\n",
       "\n",
       "    .dataframe thead th {\n",
       "        text-align: right;\n",
       "    }\n",
       "</style>\n",
       "<table border=\"1\" class=\"dataframe\">\n",
       "  <thead>\n",
       "    <tr style=\"text-align: right;\">\n",
       "      <th></th>\n",
       "      <th>document</th>\n",
       "      <th>lenght</th>\n",
       "    </tr>\n",
       "  </thead>\n",
       "  <tbody>\n",
       "    <tr>\n",
       "      <th>0</th>\n",
       "      <td>0</td>\n",
       "      <td>946</td>\n",
       "    </tr>\n",
       "    <tr>\n",
       "      <th>1</th>\n",
       "      <td>1</td>\n",
       "      <td>685</td>\n",
       "    </tr>\n",
       "    <tr>\n",
       "      <th>2</th>\n",
       "      <td>2</td>\n",
       "      <td>10216</td>\n",
       "    </tr>\n",
       "    <tr>\n",
       "      <th>3</th>\n",
       "      <td>3</td>\n",
       "      <td>1102</td>\n",
       "    </tr>\n",
       "    <tr>\n",
       "      <th>4</th>\n",
       "      <td>4</td>\n",
       "      <td>10644</td>\n",
       "    </tr>\n",
       "  </tbody>\n",
       "</table>\n",
       "</div>"
      ],
      "text/plain": [
       "   document  lenght\n",
       "0         0     946\n",
       "1         1     685\n",
       "2         2   10216\n",
       "3         3    1102\n",
       "4         4   10644"
      ]
     },
     "execution_count": 1161,
     "metadata": {},
     "output_type": "execute_result"
    }
   ],
   "source": [
    "lenghts_data.head()"
   ]
  },
  {
   "cell_type": "code",
   "execution_count": 1162,
   "metadata": {},
   "outputs": [
    {
     "data": {
      "text/plain": [
       "[Text(0, 0.5, 'Lenght'),\n",
       " Text(0.5, 0, 'Document'),\n",
       " Text(0.5, 1.0, 'Lenght of documents')]"
      ]
     },
     "execution_count": 1162,
     "metadata": {},
     "output_type": "execute_result"
    },
    {
     "data": {
      "image/png": "[encoded data removed]",
      "text/plain": [
       "<Figure size 1440x360 with 1 Axes>"
      ]
     },
     "metadata": {
      "needs_background": "light"
     },
     "output_type": "display_data"
    }
   ],
   "source": [
    "fig,ax = plt.subplots()\n",
    "fig.set_size_inches(20,5)\n",
    "sns.barplot(data=lenghts_data, x=\"document\",y=\"lenght\", ax=ax, color=\"#2ECC71\")\n",
    "ax.set(xlabel='Document', ylabel='Lenght', title=\"Lenght of documents\")"
   ]
  },
  {
   "cell_type": "markdown",
   "metadata": {},
   "source": [
    "---\n",
    "### Preprocessing & Tokenization"
   ]
  },
  {
   "cell_type": "markdown",
   "metadata": {},
   "source": [
    "Before we can create lot of corpus from the original dataset, we should first preprocess the data and clean it, and then tokenize the documents in order to apply different approches for the creation of different corpus"
   ]
  },
  {
   "cell_type": "markdown",
   "metadata": {},
   "source": [
    "##### Remove Abbreviations"
   ]
  },
  {
   "cell_type": "code",
   "execution_count": 1163,
   "metadata": {},
   "outputs": [],
   "source": [
    "abbr_dict={\n",
    "    \"what's\":\"what is\",\n",
    "    \"what're\":\"what are\",\n",
    "    \"who's\":\"who is\",\n",
    "    \"who're\":\"who are\",\n",
    "    \"where's\":\"where is\",\n",
    "    \"where're\":\"where are\",\n",
    "    \"when's\":\"when is\",\n",
    "    \"when're\":\"when are\",\n",
    "    \"how's\":\"how is\",\n",
    "    \"how're\":\"how are\",\n",
    "\n",
    "    \"i'm\":\"i am\",\n",
    "    \"i'd\":\"i would\",\n",
    "    \"we're\":\"we are\",\n",
    "    \"you're\":\"you are\",\n",
    "    \"they're\":\"they are\",\n",
    "    \"it's\":\"it is\",\n",
    "    \"he's\":\"he is\",\n",
    "    \"she's\":\"she is\",\n",
    "    \"that's\":\"that is\",\n",
    "    \"there's\":\"there is\",\n",
    "    \"there're\":\"there are\",\n",
    "    \n",
    "    \"i've\":\"i have\",\n",
    "    \"we've\":\"we have\",\n",
    "    \"you've\":\"you have\",\n",
    "    \"they've\":\"they have\",\n",
    "    \"who've\":\"who have\",\n",
    "    \"would've\":\"would have\",\n",
    "    \"not've\":\"not have\",\n",
    "\n",
    "    \"i'll\":\"i will\",\n",
    "    \"we'll\":\"we will\",\n",
    "    \"you'll\":\"you will\",\n",
    "    \"he'll\":\"he will\",\n",
    "    \"she'll\":\"she will\",\n",
    "    \"it'll\":\"it will\",\n",
    "    \"they'll\":\"they will\",\n",
    "\n",
    "    \"isn't\":\"is not\",\n",
    "    \"wasn't\":\"was not\",\n",
    "    \"aren't\":\"are not\",\n",
    "    \"weren't\":\"were not\",\n",
    "    \"can't\":\"can not\",\n",
    "    \"couldn't\":\"could not\",\n",
    "    \"don't\":\"do not\",\n",
    "    \"didn't\":\"did not\",\n",
    "    \"shouldn't\":\"should not\",\n",
    "    \"wouldn't\":\"would not\",\n",
    "    \"doesn't\":\"does not\",\n",
    "    \"haven't\":\"have not\",\n",
    "    \"hasn't\":\"has not\",\n",
    "    \"hadn't\":\"had not\",\n",
    "    \"won't\":\"will not\",\n",
    "    '\\s+':' ' # replace multi space with one single space\n",
    "}"
   ]
  },
  {
   "cell_type": "code",
   "execution_count": 1164,
   "metadata": {},
   "outputs": [],
   "source": [
    "documents_df.replace(abbr_dict, regex=True, inplace=True)"
   ]
  },
  {
   "cell_type": "code",
   "execution_count": 1165,
   "metadata": {},
   "outputs": [
    {
     "name": "stdout",
     "output_type": "stream",
     "text": [
      "{'it', \"wasn't\", \"you're\", 'ma', 'during', 'his', 'before', 'wasn', 'mustn', 'don', 'as', 'o', 'ain', \"aren't\", 'their', 'is', 'down', 'any', 'if', \"that'll\", 'weren', 'doing', 're', 'about', 'up', 'both', 'above', 'these', 'had', 'below', 'yours', 'were', 'here', 'didn', 'further', 'doesn', 'where', 'he', 'you', \"doesn't\", 'our', \"shan't\", 'all', 'out', 'theirs', \"you'll\", 'after', 'other', 'm', 'there', 'won', 'do', 'only', \"shouldn't\", 'itself', 'wouldn', 'be', 'couldn', 'on', 'your', \"won't\", 'in', \"mustn't\", 'myself', 'am', 'whom', \"needn't\", 'into', 'once', 'until', 'then', 'so', 'why', 'at', \"haven't\", 'ourselves', 'now', 'for', 've', 'can', \"should've\", 't', 'of', 'himself', 'more', 'd', \"it's\", 'aren', 'we', 'again', 'some', \"don't\", 'll', \"hadn't\", 'they', 'haven', 'each', 'ours', 'such', 'its', 'few', 'y', \"she's\", 'my', \"mightn't\", 'between', 'than', 'hadn', 'are', 'her', 'same', 'him', 'has', \"hasn't\", \"you've\", 'over', 'which', 'or', 'an', 'who', 'nor', 'what', 'was', 'just', 'own', 's', 'me', 'isn', 'from', 'but', 'needn', 'that', 'how', \"couldn't\", 'hers', 'under', 'shouldn', 'most', 'with', 'a', 'against', 'will', \"you'd\", 'did', 'by', 'does', 'hasn', 'off', 'while', \"didn't\", 'because', 'should', 'i', 'when', 'been', \"weren't\", 'mightn', \"wouldn't\", 'very', 'the', 'she', 'them', \"isn't\", 'no', 'being', 'through', 'herself', 'this', 'not', 'yourself', 'yourselves', 'themselves', 'to', 'and', 'have', 'too', 'shan', 'those', 'having'}\n"
     ]
    }
   ],
   "source": [
    "stop = set(stopwords.words('english')) \n",
    "print(stop)"
   ]
  },
  {
   "cell_type": "code",
   "execution_count": 1166,
   "metadata": {},
   "outputs": [],
   "source": [
    "import re\n",
    "\n",
    "temp =[]\n",
    "snow = nltk.stem.SnowballStemmer('english')\n",
    "\n",
    "for sentence in documents_df.document.values:\n",
    "    sentence = sentence.lower()                                # Converting to lowercase\n",
    "    cleanr = re.compile('<.*?>')\n",
    "    sentence = re.sub(cleanr, ' ', sentence)                   # Removing HTML tags\n",
    "    sentence = re.sub(r'[?|!|\\'|\"|#]',r' ',sentence)\n",
    "    sentence = re.sub(r'[.|,|)|(|\\|/]',r' ',sentence)          # Removing Punctuations\n",
    "    sentence = re.sub(\"^\\d+\\s|\\s\\d+\\s|\\s\\d+$\", \" \", sentence)  # Remove only integers\n",
    "    sentence = re.sub('\\W+',' ', sentence)                     # Remove special characters\n",
    "    sentence = re.sub(r'\\w*\\d\\w*', '', sentence).strip()       # Remove words containing both integer and string\n",
    "    \n",
    "    # Stemming && removing word less than 2 chars && removing stopwords\n",
    "    words = [snow.stem(word) for word in sentence.split() if len(word) > 2 if word not in stopwords.words('english')]   \n",
    "    \n",
    "    temp.append(words)"
   ]
  },
  {
   "cell_type": "code",
   "execution_count": 1167,
   "metadata": {
    "scrolled": true
   },
   "outputs": [],
   "source": [
    "clean_documents_df = pd.DataFrame(np.c_[temp],columns=['document'])"
   ]
  },
  {
   "cell_type": "code",
   "execution_count": 1168,
   "metadata": {},
   "outputs": [
    {
     "data": {
      "text/html": [
       "<div>\n",
       "<style scoped>\n",
       "    .dataframe tbody tr th:only-of-type {\n",
       "        vertical-align: middle;\n",
       "    }\n",
       "\n",
       "    .dataframe tbody tr th {\n",
       "        vertical-align: top;\n",
       "    }\n",
       "\n",
       "    .dataframe thead th {\n",
       "        text-align: right;\n",
       "    }\n",
       "</style>\n",
       "<table border=\"1\" class=\"dataframe\">\n",
       "  <thead>\n",
       "    <tr style=\"text-align: right;\">\n",
       "      <th></th>\n",
       "      <th>document</th>\n",
       "    </tr>\n",
       "  </thead>\n",
       "  <tbody>\n",
       "    <tr>\n",
       "      <th>0</th>\n",
       "      <td>[tedward, cornel, edu, edward, ted, fischer, s...</td>\n",
       "    </tr>\n",
       "    <tr>\n",
       "      <th>1</th>\n",
       "      <td>[eshneken, cso, uiuc, edu, edward, shnekendorf...</td>\n",
       "    </tr>\n",
       "    <tr>\n",
       "      <th>2</th>\n",
       "      <td>[bicmo, nctu, edu, jih, shin, subject, organ, ...</td>\n",
       "    </tr>\n",
       "    <tr>\n",
       "      <th>3</th>\n",
       "      <td>[jerri, sheldev, shel, isc, com, gerald, lanza...</td>\n",
       "    </tr>\n",
       "    <tr>\n",
       "      <th>4</th>\n",
       "      <td>[aren, isi, edu, yigal, aren, subject, adl, sp...</td>\n",
       "    </tr>\n",
       "  </tbody>\n",
       "</table>\n",
       "</div>"
      ],
      "text/plain": [
       "                                            document\n",
       "0  [tedward, cornel, edu, edward, ted, fischer, s...\n",
       "1  [eshneken, cso, uiuc, edu, edward, shnekendorf...\n",
       "2  [bicmo, nctu, edu, jih, shin, subject, organ, ...\n",
       "3  [jerri, sheldev, shel, isc, com, gerald, lanza...\n",
       "4  [aren, isi, edu, yigal, aren, subject, adl, sp..."
      ]
     },
     "execution_count": 1168,
     "metadata": {},
     "output_type": "execute_result"
    }
   ],
   "source": [
    "clean_documents_df.head()"
   ]
  },
  {
   "cell_type": "markdown",
   "metadata": {},
   "source": [
    "#### join tokens of each document"
   ]
  },
  {
   "cell_type": "code",
   "execution_count": 1169,
   "metadata": {},
   "outputs": [],
   "source": [
    "def join_tokens_corpus(corpus):\n",
    "    new_corpus = []\n",
    "    for document in corpus:\n",
    "        new_corpus.append(' '.join(document))\n",
    "    return new_corpus"
   ]
  },
  {
   "cell_type": "code",
   "execution_count": 1170,
   "metadata": {},
   "outputs": [],
   "source": [
    "original_corpus = join_tokens_corpus(clean_documents_df.document.values)"
   ]
  },
  {
   "cell_type": "code",
   "execution_count": 1171,
   "metadata": {},
   "outputs": [
    {
     "data": {
      "text/plain": [
       "2936"
      ]
     },
     "execution_count": 1171,
     "metadata": {},
     "output_type": "execute_result"
    }
   ],
   "source": [
    "len(original_corpus)"
   ]
  },
  {
   "cell_type": "code",
   "execution_count": 1172,
   "metadata": {},
   "outputs": [],
   "source": [
    "del temp"
   ]
  },
  {
   "cell_type": "markdown",
   "metadata": {},
   "source": [
    "---\n",
    "### Apply different approaches to create many corpuses"
   ]
  },
  {
   "cell_type": "markdown",
   "metadata": {},
   "source": [
    "#### Take words randomly from each document by a percentage %"
   ]
  },
  {
   "cell_type": "code",
   "execution_count": 1173,
   "metadata": {},
   "outputs": [],
   "source": [
    "def create_corpus(corpus, percentage):\n",
    "    temp = []\n",
    "    for document in corpus:\n",
    "        lenght = len(document)\n",
    "        num_to_select = int(lenght * (percentage/100))\n",
    "        temp.append(random.sample(document, num_to_select))\n",
    "    return temp"
   ]
  },
  {
   "cell_type": "code",
   "execution_count": 1174,
   "metadata": {},
   "outputs": [],
   "source": [
    "corpus_1 = create_corpus(clean_documents_df.document.values, percentage=30)"
   ]
  },
  {
   "cell_type": "code",
   "execution_count": 1175,
   "metadata": {},
   "outputs": [],
   "source": [
    "corpus_1 = join_tokens_corpus(corpus_1)"
   ]
  },
  {
   "cell_type": "code",
   "execution_count": 1176,
   "metadata": {},
   "outputs": [],
   "source": [
    "corpus_1 = pd.DataFrame(np.c_[documents_df.index, corpus_1,documents_df.target], \n",
    "                        columns=['index','document','target'])"
   ]
  },
  {
   "cell_type": "code",
   "execution_count": 1177,
   "metadata": {},
   "outputs": [
    {
     "data": {
      "text/html": [
       "<div>\n",
       "<style scoped>\n",
       "    .dataframe tbody tr th:only-of-type {\n",
       "        vertical-align: middle;\n",
       "    }\n",
       "\n",
       "    .dataframe tbody tr th {\n",
       "        vertical-align: top;\n",
       "    }\n",
       "\n",
       "    .dataframe thead th {\n",
       "        text-align: right;\n",
       "    }\n",
       "</style>\n",
       "<table border=\"1\" class=\"dataframe\">\n",
       "  <thead>\n",
       "    <tr style=\"text-align: right;\">\n",
       "      <th></th>\n",
       "      <th>index</th>\n",
       "      <th>document</th>\n",
       "      <th>target</th>\n",
       "    </tr>\n",
       "  </thead>\n",
       "  <tbody>\n",
       "    <tr>\n",
       "      <th>0</th>\n",
       "      <td>0</td>\n",
       "      <td>liber mat player mani back univ luriem trade t...</td>\n",
       "      <td>2</td>\n",
       "    </tr>\n",
       "    <tr>\n",
       "      <th>1</th>\n",
       "      <td>1</td>\n",
       "      <td>israel peac clock camp keep isra rule want wri...</td>\n",
       "      <td>4</td>\n",
       "    </tr>\n",
       "    <tr>\n",
       "      <th>2</th>\n",
       "      <td>2</td>\n",
       "      <td>borrow filenam emu find hex program escap syst...</td>\n",
       "      <td>0</td>\n",
       "    </tr>\n",
       "    <tr>\n",
       "      <th>3</th>\n",
       "      <td>3</td>\n",
       "      <td>shel shelton post would gerald sheldev receiv ...</td>\n",
       "      <td>2</td>\n",
       "    </tr>\n",
       "    <tr>\n",
       "      <th>4</th>\n",
       "      <td>4</td>\n",
       "      <td>leagu holocaust expert contract thousand prose...</td>\n",
       "      <td>4</td>\n",
       "    </tr>\n",
       "  </tbody>\n",
       "</table>\n",
       "</div>"
      ],
      "text/plain": [
       "  index                                           document target\n",
       "0     0  liber mat player mani back univ luriem trade t...      2\n",
       "1     1  israel peac clock camp keep isra rule want wri...      4\n",
       "2     2  borrow filenam emu find hex program escap syst...      0\n",
       "3     3  shel shelton post would gerald sheldev receiv ...      2\n",
       "4     4  leagu holocaust expert contract thousand prose...      4"
      ]
     },
     "execution_count": 1177,
     "metadata": {},
     "output_type": "execute_result"
    }
   ],
   "source": [
    "corpus_1.head()"
   ]
  },
  {
   "cell_type": "code",
   "execution_count": 1178,
   "metadata": {},
   "outputs": [],
   "source": [
    "corpus_2 = create_corpus(clean_documents_df.document.values, percentage=60)"
   ]
  },
  {
   "cell_type": "code",
   "execution_count": 1179,
   "metadata": {},
   "outputs": [],
   "source": [
    "corpus_2 = join_tokens_corpus(corpus_2)"
   ]
  },
  {
   "cell_type": "code",
   "execution_count": 1180,
   "metadata": {},
   "outputs": [],
   "source": [
    "corpus_2 = pd.DataFrame(np.c_[documents_df.index, corpus_2,documents_df.target], \n",
    "                        columns=['index','document','target'])"
   ]
  },
  {
   "cell_type": "code",
   "execution_count": 1181,
   "metadata": {},
   "outputs": [
    {
     "data": {
      "text/html": [
       "<div>\n",
       "<style scoped>\n",
       "    .dataframe tbody tr th:only-of-type {\n",
       "        vertical-align: middle;\n",
       "    }\n",
       "\n",
       "    .dataframe tbody tr th {\n",
       "        vertical-align: top;\n",
       "    }\n",
       "\n",
       "    .dataframe thead th {\n",
       "        text-align: right;\n",
       "    }\n",
       "</style>\n",
       "<table border=\"1\" class=\"dataframe\">\n",
       "  <thead>\n",
       "    <tr style=\"text-align: right;\">\n",
       "      <th></th>\n",
       "      <th>index</th>\n",
       "      <th>document</th>\n",
       "      <th>target</th>\n",
       "    </tr>\n",
       "  </thead>\n",
       "  <tbody>\n",
       "    <tr>\n",
       "      <th>0</th>\n",
       "      <td>0</td>\n",
       "      <td>edu rooki five liber wrong team chronic cheer ...</td>\n",
       "      <td>2</td>\n",
       "    </tr>\n",
       "    <tr>\n",
       "      <th>1</th>\n",
       "      <td>1</td>\n",
       "      <td>justifi peac tim illinoi israel prerequisit mo...</td>\n",
       "      <td>4</td>\n",
       "    </tr>\n",
       "    <tr>\n",
       "      <th>2</th>\n",
       "      <td>2</td>\n",
       "      <td>differ peopl mirror img show color gif left ge...</td>\n",
       "      <td>0</td>\n",
       "    </tr>\n",
       "    <tr>\n",
       "      <th>3</th>\n",
       "      <td>3</td>\n",
       "      <td>fact file info secret find tate kind ago write...</td>\n",
       "      <td>2</td>\n",
       "    </tr>\n",
       "    <tr>\n",
       "      <th>4</th>\n",
       "      <td>4</td>\n",
       "      <td>base wealth francisco later aryan client pales...</td>\n",
       "      <td>4</td>\n",
       "    </tr>\n",
       "  </tbody>\n",
       "</table>\n",
       "</div>"
      ],
      "text/plain": [
       "  index                                           document target\n",
       "0     0  edu rooki five liber wrong team chronic cheer ...      2\n",
       "1     1  justifi peac tim illinoi israel prerequisit mo...      4\n",
       "2     2  differ peopl mirror img show color gif left ge...      0\n",
       "3     3  fact file info secret find tate kind ago write...      2\n",
       "4     4  base wealth francisco later aryan client pales...      4"
      ]
     },
     "execution_count": 1181,
     "metadata": {},
     "output_type": "execute_result"
    }
   ],
   "source": [
    "corpus_2.head()"
   ]
  },
  {
   "cell_type": "code",
   "execution_count": 1182,
   "metadata": {},
   "outputs": [
    {
     "data": {
      "text/plain": [
       "(2936, 2936)"
      ]
     },
     "execution_count": 1182,
     "metadata": {},
     "output_type": "execute_result"
    }
   ],
   "source": [
    "len(corpus_1),len(corpus_2)"
   ]
  },
  {
   "cell_type": "markdown",
   "metadata": {},
   "source": [
    "## Vectorization of documents"
   ]
  },
  {
   "cell_type": "code",
   "execution_count": 1183,
   "metadata": {},
   "outputs": [],
   "source": [
    "from sklearn.feature_extraction.text import CountVectorizer, TfidfTransformer\n",
    "from sklearn.feature_extraction.text import TfidfVectorizer\n",
    "from sklearn.pipeline import Pipeline\n",
    "from sklearn.decomposition import TruncatedSVD\n",
    "\n",
    "\n",
    "#set vectorizer\n",
    "vectorizer = CountVectorizer()\n",
    "\n",
    "#set tf-idf\n",
    "tfidf = TfidfTransformer()\n",
    "\n",
    "\n",
    "#set dimensionality reduction SVD\n",
    "svd_model = TruncatedSVD(n_components=300, \n",
    "                         algorithm='randomized',\n",
    "                         n_iter=10, random_state=0)\n",
    "\n",
    "#init Pipeline\n",
    "pipeline = Pipeline([\n",
    "            ('vectorizer', vectorizer),\n",
    "            ('tfidf', tfidf),\n",
    "            ('svd', svd_model)\n",
    "        ])"
   ]
  },
  {
   "cell_type": "code",
   "execution_count": 1184,
   "metadata": {},
   "outputs": [],
   "source": [
    "#fit the pipeline\n",
    "svd_matrix_1 = pipeline.fit_transform(corpus_1['document'])"
   ]
  },
  {
   "cell_type": "code",
   "execution_count": 1185,
   "metadata": {},
   "outputs": [
    {
     "data": {
      "text/plain": [
       "(2936, 300)"
      ]
     },
     "execution_count": 1185,
     "metadata": {},
     "output_type": "execute_result"
    }
   ],
   "source": [
    "svd_matrix_1.shape"
   ]
  },
  {
   "cell_type": "code",
   "execution_count": 1186,
   "metadata": {},
   "outputs": [],
   "source": [
    "#fit the pipeline\n",
    "svd_matrix_2 = pipeline.fit_transform(corpus_2['document'])"
   ]
  },
  {
   "cell_type": "code",
   "execution_count": 1187,
   "metadata": {},
   "outputs": [
    {
     "data": {
      "text/plain": [
       "(2936, 300)"
      ]
     },
     "execution_count": 1187,
     "metadata": {},
     "output_type": "execute_result"
    }
   ],
   "source": [
    "svd_matrix_2.shape"
   ]
  },
  {
   "cell_type": "code",
   "execution_count": 1188,
   "metadata": {},
   "outputs": [],
   "source": [
    "from spherecluster import SphericalKMeans"
   ]
  },
  {
   "cell_type": "code",
   "execution_count": 1189,
   "metadata": {},
   "outputs": [
    {
     "name": "stdout",
     "output_type": "stream",
     "text": [
      "Clustering with SphericalKMeans(copy_x=True, init='k-means++', max_iter=300, n_clusters=5,\n",
      "        n_init=20, n_jobs=1, normalize=True, random_state=None, tol=0.0001,\n",
      "        verbose=0)\n"
     ]
    },
    {
     "data": {
      "text/plain": [
       "SphericalKMeans(copy_x=True, init='k-means++', max_iter=300, n_clusters=5,\n",
       "        n_init=20, n_jobs=1, normalize=True, random_state=None, tol=0.0001,\n",
       "        verbose=0)"
      ]
     },
     "execution_count": 1189,
     "metadata": {},
     "output_type": "execute_result"
    }
   ],
   "source": [
    "# Spherical K-Means clustering\n",
    "skm = SphericalKMeans(n_clusters=5, init='k-means++', n_init=20)\n",
    "\n",
    "print(\"Clustering with %s\" % skm)\n",
    "skm.fit(svd_matrix_1)"
   ]
  },
  {
   "cell_type": "code",
   "execution_count": 1190,
   "metadata": {},
   "outputs": [],
   "source": [
    "y_sphereKmeans_1 = skm.predict(svd_matrix_1)"
   ]
  },
  {
   "cell_type": "code",
   "execution_count": 1191,
   "metadata": {},
   "outputs": [],
   "source": [
    "corpus_1['predicted_class'] = y_sphereKmeans_1"
   ]
  },
  {
   "cell_type": "code",
   "execution_count": 1192,
   "metadata": {},
   "outputs": [
    {
     "data": {
      "text/html": [
       "<div>\n",
       "<style scoped>\n",
       "    .dataframe tbody tr th:only-of-type {\n",
       "        vertical-align: middle;\n",
       "    }\n",
       "\n",
       "    .dataframe tbody tr th {\n",
       "        vertical-align: top;\n",
       "    }\n",
       "\n",
       "    .dataframe thead th {\n",
       "        text-align: right;\n",
       "    }\n",
       "</style>\n",
       "<table border=\"1\" class=\"dataframe\">\n",
       "  <thead>\n",
       "    <tr style=\"text-align: right;\">\n",
       "      <th></th>\n",
       "      <th>index</th>\n",
       "      <th>document</th>\n",
       "      <th>target</th>\n",
       "      <th>predicted_class</th>\n",
       "    </tr>\n",
       "  </thead>\n",
       "  <tbody>\n",
       "    <tr>\n",
       "      <th>0</th>\n",
       "      <td>0</td>\n",
       "      <td>liber mat player mani back univ luriem trade t...</td>\n",
       "      <td>2</td>\n",
       "      <td>0</td>\n",
       "    </tr>\n",
       "    <tr>\n",
       "      <th>1</th>\n",
       "      <td>1</td>\n",
       "      <td>israel peac clock camp keep isra rule want wri...</td>\n",
       "      <td>4</td>\n",
       "      <td>3</td>\n",
       "    </tr>\n",
       "    <tr>\n",
       "      <th>2</th>\n",
       "      <td>2</td>\n",
       "      <td>borrow filenam emu find hex program escap syst...</td>\n",
       "      <td>0</td>\n",
       "      <td>2</td>\n",
       "    </tr>\n",
       "    <tr>\n",
       "      <th>3</th>\n",
       "      <td>3</td>\n",
       "      <td>shel shelton post would gerald sheldev receiv ...</td>\n",
       "      <td>2</td>\n",
       "      <td>0</td>\n",
       "    </tr>\n",
       "    <tr>\n",
       "      <th>4</th>\n",
       "      <td>4</td>\n",
       "      <td>leagu holocaust expert contract thousand prose...</td>\n",
       "      <td>4</td>\n",
       "      <td>3</td>\n",
       "    </tr>\n",
       "  </tbody>\n",
       "</table>\n",
       "</div>"
      ],
      "text/plain": [
       "  index                                           document target  \\\n",
       "0     0  liber mat player mani back univ luriem trade t...      2   \n",
       "1     1  israel peac clock camp keep isra rule want wri...      4   \n",
       "2     2  borrow filenam emu find hex program escap syst...      0   \n",
       "3     3  shel shelton post would gerald sheldev receiv ...      2   \n",
       "4     4  leagu holocaust expert contract thousand prose...      4   \n",
       "\n",
       "   predicted_class  \n",
       "0                0  \n",
       "1                3  \n",
       "2                2  \n",
       "3                0  \n",
       "4                3  "
      ]
     },
     "execution_count": 1192,
     "metadata": {},
     "output_type": "execute_result"
    }
   ],
   "source": [
    "corpus_1.head()"
   ]
  },
  {
   "cell_type": "code",
   "execution_count": 1193,
   "metadata": {},
   "outputs": [
    {
     "name": "stdout",
     "output_type": "stream",
     "text": [
      "Clustering with SphericalKMeans(copy_x=True, init='k-means++', max_iter=300, n_clusters=5,\n",
      "        n_init=20, n_jobs=1, normalize=True, random_state=None, tol=0.0001,\n",
      "        verbose=0)\n"
     ]
    },
    {
     "data": {
      "text/plain": [
       "SphericalKMeans(copy_x=True, init='k-means++', max_iter=300, n_clusters=5,\n",
       "        n_init=20, n_jobs=1, normalize=True, random_state=None, tol=0.0001,\n",
       "        verbose=0)"
      ]
     },
     "execution_count": 1193,
     "metadata": {},
     "output_type": "execute_result"
    }
   ],
   "source": [
    "# Spherical K-Means clustering\n",
    "skm = SphericalKMeans(n_clusters=5, init='k-means++', n_init=20)\n",
    "\n",
    "print(\"Clustering with %s\" % skm)\n",
    "skm.fit(svd_matrix_2)"
   ]
  },
  {
   "cell_type": "code",
   "execution_count": 1194,
   "metadata": {},
   "outputs": [],
   "source": [
    "y_sphereKmeans_2 = skm.predict(svd_matrix_2)"
   ]
  },
  {
   "cell_type": "code",
   "execution_count": 1195,
   "metadata": {},
   "outputs": [],
   "source": [
    "corpus_2['predicted_class'] = y_sphereKmeans_2"
   ]
  },
  {
   "cell_type": "code",
   "execution_count": 1196,
   "metadata": {},
   "outputs": [
    {
     "data": {
      "text/html": [
       "<div>\n",
       "<style scoped>\n",
       "    .dataframe tbody tr th:only-of-type {\n",
       "        vertical-align: middle;\n",
       "    }\n",
       "\n",
       "    .dataframe tbody tr th {\n",
       "        vertical-align: top;\n",
       "    }\n",
       "\n",
       "    .dataframe thead th {\n",
       "        text-align: right;\n",
       "    }\n",
       "</style>\n",
       "<table border=\"1\" class=\"dataframe\">\n",
       "  <thead>\n",
       "    <tr style=\"text-align: right;\">\n",
       "      <th></th>\n",
       "      <th>index</th>\n",
       "      <th>document</th>\n",
       "      <th>target</th>\n",
       "      <th>predicted_class</th>\n",
       "    </tr>\n",
       "  </thead>\n",
       "  <tbody>\n",
       "    <tr>\n",
       "      <th>0</th>\n",
       "      <td>0</td>\n",
       "      <td>edu rooki five liber wrong team chronic cheer ...</td>\n",
       "      <td>2</td>\n",
       "      <td>4</td>\n",
       "    </tr>\n",
       "    <tr>\n",
       "      <th>1</th>\n",
       "      <td>1</td>\n",
       "      <td>justifi peac tim illinoi israel prerequisit mo...</td>\n",
       "      <td>4</td>\n",
       "      <td>2</td>\n",
       "    </tr>\n",
       "    <tr>\n",
       "      <th>2</th>\n",
       "      <td>2</td>\n",
       "      <td>differ peopl mirror img show color gif left ge...</td>\n",
       "      <td>0</td>\n",
       "      <td>1</td>\n",
       "    </tr>\n",
       "    <tr>\n",
       "      <th>3</th>\n",
       "      <td>3</td>\n",
       "      <td>fact file info secret find tate kind ago write...</td>\n",
       "      <td>2</td>\n",
       "      <td>4</td>\n",
       "    </tr>\n",
       "    <tr>\n",
       "      <th>4</th>\n",
       "      <td>4</td>\n",
       "      <td>base wealth francisco later aryan client pales...</td>\n",
       "      <td>4</td>\n",
       "      <td>2</td>\n",
       "    </tr>\n",
       "  </tbody>\n",
       "</table>\n",
       "</div>"
      ],
      "text/plain": [
       "  index                                           document target  \\\n",
       "0     0  edu rooki five liber wrong team chronic cheer ...      2   \n",
       "1     1  justifi peac tim illinoi israel prerequisit mo...      4   \n",
       "2     2  differ peopl mirror img show color gif left ge...      0   \n",
       "3     3  fact file info secret find tate kind ago write...      2   \n",
       "4     4  base wealth francisco later aryan client pales...      4   \n",
       "\n",
       "   predicted_class  \n",
       "0                4  \n",
       "1                2  \n",
       "2                1  \n",
       "3                4  \n",
       "4                2  "
      ]
     },
     "execution_count": 1196,
     "metadata": {},
     "output_type": "execute_result"
    }
   ],
   "source": [
    "corpus_2.head()"
   ]
  },
  {
   "cell_type": "code",
   "execution_count": 1197,
   "metadata": {},
   "outputs": [
    {
     "data": {
      "text/plain": [
       "0.5675893343152068"
      ]
     },
     "execution_count": 1197,
     "metadata": {},
     "output_type": "execute_result"
    }
   ],
   "source": [
    "from sklearn.metrics.cluster import normalized_mutual_info_score\n",
    "\n",
    "nmi_1 = normalized_mutual_info_score(corpus_1['target'], y_sphereKmeans_1, average_method='arithmetic')\n",
    "nmi_1"
   ]
  },
  {
   "cell_type": "code",
   "execution_count": 1198,
   "metadata": {},
   "outputs": [
    {
     "data": {
      "text/plain": [
       "0.7615823071050626"
      ]
     },
     "execution_count": 1198,
     "metadata": {},
     "output_type": "execute_result"
    }
   ],
   "source": [
    "nmi_2 = normalized_mutual_info_score(corpus_2['target'], y_sphereKmeans_2, average_method='arithmetic')\n",
    "nmi_2"
   ]
  },
  {
   "cell_type": "code",
   "execution_count": 1199,
   "metadata": {},
   "outputs": [],
   "source": [
    "from coclust.evaluation.external import accuracy"
   ]
  },
  {
   "cell_type": "code",
   "execution_count": 1200,
   "metadata": {},
   "outputs": [
    {
     "data": {
      "text/plain": [
       "0.7881471389645777"
      ]
     },
     "execution_count": 1200,
     "metadata": {},
     "output_type": "execute_result"
    }
   ],
   "source": [
    "acc1 = accuracy(ng5.target, y_sphereKmeans_1)\n",
    "acc1"
   ]
  },
  {
   "cell_type": "code",
   "execution_count": 1201,
   "metadata": {},
   "outputs": [
    {
     "data": {
      "text/plain": [
       "0.9076975476839237"
      ]
     },
     "execution_count": 1201,
     "metadata": {},
     "output_type": "execute_result"
    }
   ],
   "source": [
    "acc2 = accuracy(ng5.target, y_sphereKmeans_2)\n",
    "acc2"
   ]
  },
  {
   "cell_type": "markdown",
   "metadata": {},
   "source": [
    "### Comparison between different clustering results"
   ]
  },
  {
   "cell_type": "code",
   "execution_count": 1202,
   "metadata": {},
   "outputs": [
    {
     "data": {
      "text/html": [
       "<div>\n",
       "<style scoped>\n",
       "    .dataframe tbody tr th:only-of-type {\n",
       "        vertical-align: middle;\n",
       "    }\n",
       "\n",
       "    .dataframe tbody tr th {\n",
       "        vertical-align: top;\n",
       "    }\n",
       "\n",
       "    .dataframe thead th {\n",
       "        text-align: right;\n",
       "    }\n",
       "</style>\n",
       "<table border=\"1\" class=\"dataframe\">\n",
       "  <thead>\n",
       "    <tr style=\"text-align: right;\">\n",
       "      <th></th>\n",
       "      <th>Partitions</th>\n",
       "      <th>NMI</th>\n",
       "      <th>Accuracy (Coclust)</th>\n",
       "    </tr>\n",
       "  </thead>\n",
       "  <tbody>\n",
       "    <tr>\n",
       "      <th>0</th>\n",
       "      <td>partition 1 -- 30% random words</td>\n",
       "      <td>0.567589</td>\n",
       "      <td>0.788147</td>\n",
       "    </tr>\n",
       "    <tr>\n",
       "      <th>1</th>\n",
       "      <td>partition 2 -- 60% random words</td>\n",
       "      <td>0.761582</td>\n",
       "      <td>0.907698</td>\n",
       "    </tr>\n",
       "  </tbody>\n",
       "</table>\n",
       "</div>"
      ],
      "text/plain": [
       "                        Partitions       NMI  Accuracy (Coclust)\n",
       "0  partition 1 -- 30% random words  0.567589            0.788147\n",
       "1  partition 2 -- 60% random words  0.761582            0.907698"
      ]
     },
     "execution_count": 1202,
     "metadata": {},
     "output_type": "execute_result"
    }
   ],
   "source": [
    "results = pd.DataFrame([['partition 1 -- 30% random words', nmi_1, acc1],\n",
    "                        ['partition 2 -- 60% random words', nmi_2, acc2]],\n",
    "                       columns=['Partitions','NMI', 'Accuracy (Coclust)'])\n",
    "results"
   ]
  },
  {
   "cell_type": "markdown",
   "metadata": {},
   "source": [
    "### Implementation of the Hungarian algorithm"
   ]
  },
  {
   "cell_type": "code",
   "execution_count": 1203,
   "metadata": {},
   "outputs": [],
   "source": [
    "from sklearn.metrics import confusion_matrix\n",
    "from sklearn.utils.linear_assignment_ import linear_assignment\n",
    "\n",
    "def changed_index(true_row_labels, predicted_row_labels):\n",
    "    cm = confusion_matrix(true_row_labels, predicted_row_labels)\n",
    "    indexes = linear_assignment(_make_cost_m(cm))\n",
    "    return indexes\n",
    "def _make_cost_m(cm):\n",
    "    s = np.max(cm)\n",
    "    return (- cm + s)"
   ]
  },
  {
   "cell_type": "code",
   "execution_count": 1204,
   "metadata": {},
   "outputs": [],
   "source": [
    "#Correspondance entre les classes réelles et les classes résultantes pour corpus 1 et 2\n",
    "changed_index_1=changed_index(ng5.target, y_sphereKmeans_1)\n",
    "changed_index_2=changed_index(ng5.target, y_sphereKmeans_2)\n",
    "#Correspondance entre les classes résultantes du corpus 1 et les classes résultantes du corpus 2\n",
    "changed_index_12=changed_index(y_sphereKmeans_2,y_sphereKmeans_1)"
   ]
  },
  {
   "cell_type": "code",
   "execution_count": 1205,
   "metadata": {},
   "outputs": [
    {
     "data": {
      "text/plain": [
       "array([[0, 2],\n",
       "       [1, 4],\n",
       "       [2, 0],\n",
       "       [3, 1],\n",
       "       [4, 3]])"
      ]
     },
     "execution_count": 1205,
     "metadata": {},
     "output_type": "execute_result"
    }
   ],
   "source": [
    "changed_index_1"
   ]
  },
  {
   "cell_type": "code",
   "execution_count": 1206,
   "metadata": {},
   "outputs": [
    {
     "data": {
      "text/plain": [
       "array([[0, 1],\n",
       "       [1, 3],\n",
       "       [2, 4],\n",
       "       [3, 0],\n",
       "       [4, 2]])"
      ]
     },
     "execution_count": 1206,
     "metadata": {},
     "output_type": "execute_result"
    }
   ],
   "source": [
    "changed_index_2"
   ]
  },
  {
   "cell_type": "code",
   "execution_count": 1207,
   "metadata": {},
   "outputs": [
    {
     "data": {
      "text/plain": [
       "array([[0, 1],\n",
       "       [1, 2],\n",
       "       [2, 3],\n",
       "       [3, 4],\n",
       "       [4, 0]])"
      ]
     },
     "execution_count": 1207,
     "metadata": {},
     "output_type": "execute_result"
    }
   ],
   "source": [
    "changed_index_12"
   ]
  },
  {
   "cell_type": "markdown",
   "metadata": {},
   "source": [
    "# Ajout des classes ajustées selon les correspondances aux corpus"
   ]
  },
  {
   "cell_type": "code",
   "execution_count": 1208,
   "metadata": {},
   "outputs": [],
   "source": [
    "def adjusted_classes(corpus,changed_index):\n",
    "    for j in corpus['index']:\n",
    "        for i in range(len(changed_index)):\n",
    "            if (corpus.loc[j,'predicted_class']==changed_index[i,1]):\n",
    "                corpus.loc[j,'adjusted_class']=changed_index[i,0]\n",
    "                break\n",
    "    corpus['adjusted_class']=pd.to_numeric(corpus['adjusted_class'], downcast='integer')\n",
    "    corpus['predicted_class']=pd.to_numeric(corpus['predicted_class'], downcast='integer')\n",
    "    corpus['target']=pd.to_numeric(corpus['target'], downcast='integer')\n",
    "    return corpus"
   ]
  },
  {
   "cell_type": "code",
   "execution_count": 1209,
   "metadata": {},
   "outputs": [],
   "source": [
    "#On crée un troisième corpus pour comparer les classes résultantes des deux corpus 1 et 2\n",
    "#il contiendra les classes prédites du corpus 1 et leur ajustement par rapport aux classes du corpus 2\n",
    "corpus_12=corpus_1[:]"
   ]
  },
  {
   "cell_type": "code",
   "execution_count": 1210,
   "metadata": {},
   "outputs": [],
   "source": [
    "#Ajustement des classes résultantes des corpus 1 et 2 aux classes réelles\n",
    "corpus_1=adjusted_classes(corpus_1,changed_index_1)\n",
    "corpus_2=adjusted_classes(corpus_2,changed_index_2)"
   ]
  },
  {
   "cell_type": "code",
   "execution_count": 1211,
   "metadata": {},
   "outputs": [],
   "source": [
    "#Ajustement des classes résultantes du corpus 1 à celles du corpus 2\n",
    "corpus_12=adjusted_classes(corpus_12,changed_index_12)"
   ]
  },
  {
   "cell_type": "code",
   "execution_count": 1212,
   "metadata": {},
   "outputs": [],
   "source": [
    "#On ajoute les classes prédites du corpus 2 au troisième corpus\n",
    "corpus_12['predicted_class_2']=corpus_2['predicted_class']"
   ]
  },
  {
   "cell_type": "markdown",
   "metadata": {},
   "source": [
    "# Identification des documents mal classés"
   ]
  },
  {
   "cell_type": "code",
   "execution_count": 1213,
   "metadata": {},
   "outputs": [],
   "source": [
    "def changed_docs_target(corpus):\n",
    "    return corpus[corpus['target']!=corpus['adjusted_class']]"
   ]
  },
  {
   "cell_type": "code",
   "execution_count": 1214,
   "metadata": {},
   "outputs": [],
   "source": [
    "changed_docs_corpus_1=changed_docs_target(corpus_1)\n",
    "changed_docs_corpus_2=changed_docs_target(corpus_2)"
   ]
  },
  {
   "cell_type": "code",
   "execution_count": 1222,
   "metadata": {},
   "outputs": [
    {
     "data": {
      "text/plain": [
       "622"
      ]
     },
     "execution_count": 1222,
     "metadata": {},
     "output_type": "execute_result"
    }
   ],
   "source": [
    "len(changed_docs_corpus_1)"
   ]
  },
  {
   "cell_type": "code",
   "execution_count": 1223,
   "metadata": {},
   "outputs": [
    {
     "data": {
      "text/html": [
       "<div>\n",
       "<style scoped>\n",
       "    .dataframe tbody tr th:only-of-type {\n",
       "        vertical-align: middle;\n",
       "    }\n",
       "\n",
       "    .dataframe tbody tr th {\n",
       "        vertical-align: top;\n",
       "    }\n",
       "\n",
       "    .dataframe thead th {\n",
       "        text-align: right;\n",
       "    }\n",
       "</style>\n",
       "<table border=\"1\" class=\"dataframe\">\n",
       "  <thead>\n",
       "    <tr style=\"text-align: right;\">\n",
       "      <th></th>\n",
       "      <th>index</th>\n",
       "      <th>document</th>\n",
       "      <th>target</th>\n",
       "      <th>predicted_class</th>\n",
       "      <th>adjusted_class</th>\n",
       "    </tr>\n",
       "  </thead>\n",
       "  <tbody>\n",
       "    <tr>\n",
       "      <th>9</th>\n",
       "      <td>9</td>\n",
       "      <td>newsgroup emeri signatur rest made write read ...</td>\n",
       "      <td>2</td>\n",
       "      <td>3</td>\n",
       "      <td>4</td>\n",
       "    </tr>\n",
       "    <tr>\n",
       "      <th>10</th>\n",
       "      <td>10</td>\n",
       "      <td>razi line discuss manag mohammad upon agre edu...</td>\n",
       "      <td>4</td>\n",
       "      <td>2</td>\n",
       "      <td>0</td>\n",
       "    </tr>\n",
       "    <tr>\n",
       "      <th>23</th>\n",
       "      <td>23</td>\n",
       "      <td>surpris post chaotic jockey develop poster rel...</td>\n",
       "      <td>3</td>\n",
       "      <td>4</td>\n",
       "      <td>1</td>\n",
       "    </tr>\n",
       "    <tr>\n",
       "      <th>28</th>\n",
       "      <td>28</td>\n",
       "      <td>heaton would host jhuvm figur post miller buck...</td>\n",
       "      <td>2</td>\n",
       "      <td>2</td>\n",
       "      <td>0</td>\n",
       "    </tr>\n",
       "    <tr>\n",
       "      <th>30</th>\n",
       "      <td>30</td>\n",
       "      <td>california stolen serial subject summari light...</td>\n",
       "      <td>1</td>\n",
       "      <td>2</td>\n",
       "      <td>0</td>\n",
       "    </tr>\n",
       "    <tr>\n",
       "      <th>32</th>\n",
       "      <td>32</td>\n",
       "      <td>nntp end harley best bar azw harley jump woodw...</td>\n",
       "      <td>1</td>\n",
       "      <td>2</td>\n",
       "      <td>0</td>\n",
       "    </tr>\n",
       "    <tr>\n",
       "      <th>35</th>\n",
       "      <td>35</td>\n",
       "      <td>eric met com gerald lanza pennant eric astro s...</td>\n",
       "      <td>2</td>\n",
       "      <td>4</td>\n",
       "      <td>1</td>\n",
       "    </tr>\n",
       "    <tr>\n",
       "      <th>36</th>\n",
       "      <td>36</td>\n",
       "      <td>know strang invit edu event subject world carl...</td>\n",
       "      <td>4</td>\n",
       "      <td>2</td>\n",
       "      <td>0</td>\n",
       "    </tr>\n",
       "    <tr>\n",
       "      <th>38</th>\n",
       "      <td>38</td>\n",
       "      <td>gov subject articl without green corpor bruce ...</td>\n",
       "      <td>1</td>\n",
       "      <td>1</td>\n",
       "      <td>3</td>\n",
       "    </tr>\n",
       "    <tr>\n",
       "      <th>41</th>\n",
       "      <td>41</td>\n",
       "      <td>univers ken like back organ news delino well c...</td>\n",
       "      <td>2</td>\n",
       "      <td>2</td>\n",
       "      <td>0</td>\n",
       "    </tr>\n",
       "    <tr>\n",
       "      <th>69</th>\n",
       "      <td>69</td>\n",
       "      <td>teal eric david servic line smith subject end ...</td>\n",
       "      <td>2</td>\n",
       "      <td>4</td>\n",
       "      <td>1</td>\n",
       "    </tr>\n",
       "    <tr>\n",
       "      <th>73</th>\n",
       "      <td>73</td>\n",
       "      <td>pullov posit advanc concern pretti mclane part...</td>\n",
       "      <td>2</td>\n",
       "      <td>4</td>\n",
       "      <td>1</td>\n",
       "    </tr>\n",
       "    <tr>\n",
       "      <th>77</th>\n",
       "      <td>77</td>\n",
       "      <td>file save view like look internet internet sav...</td>\n",
       "      <td>0</td>\n",
       "      <td>1</td>\n",
       "      <td>3</td>\n",
       "    </tr>\n",
       "    <tr>\n",
       "      <th>85</th>\n",
       "      <td>85</td>\n",
       "      <td>bike edu anyon crazi even includ nntp first lo...</td>\n",
       "      <td>1</td>\n",
       "      <td>2</td>\n",
       "      <td>0</td>\n",
       "    </tr>\n",
       "    <tr>\n",
       "      <th>95</th>\n",
       "      <td>95</td>\n",
       "      <td>edu edu definet pro pro utexa alfalfa subject ...</td>\n",
       "      <td>4</td>\n",
       "      <td>2</td>\n",
       "      <td>0</td>\n",
       "    </tr>\n",
       "    <tr>\n",
       "      <th>96</th>\n",
       "      <td>96</td>\n",
       "      <td>dave ucsd subject talk san dept write david ed...</td>\n",
       "      <td>2</td>\n",
       "      <td>2</td>\n",
       "      <td>0</td>\n",
       "    </tr>\n",
       "    <tr>\n",
       "      <th>100</th>\n",
       "      <td>100</td>\n",
       "      <td>bragg mail mail jbragg mail stat tri morgan li...</td>\n",
       "      <td>2</td>\n",
       "      <td>2</td>\n",
       "      <td>0</td>\n",
       "    </tr>\n",
       "    <tr>\n",
       "      <th>101</th>\n",
       "      <td>101</td>\n",
       "      <td>prevent post one line subject tool</td>\n",
       "      <td>1</td>\n",
       "      <td>2</td>\n",
       "      <td>0</td>\n",
       "    </tr>\n",
       "    <tr>\n",
       "      <th>109</th>\n",
       "      <td>109</td>\n",
       "      <td>tclock feygin assist eecg broadcast univers tr...</td>\n",
       "      <td>4</td>\n",
       "      <td>2</td>\n",
       "      <td>0</td>\n",
       "    </tr>\n",
       "    <tr>\n",
       "      <th>113</th>\n",
       "      <td>113</td>\n",
       "      <td>post one answer think fear use subject alleghe...</td>\n",
       "      <td>2</td>\n",
       "      <td>2</td>\n",
       "      <td>0</td>\n",
       "    </tr>\n",
       "  </tbody>\n",
       "</table>\n",
       "</div>"
      ],
      "text/plain": [
       "    index                                           document  target  \\\n",
       "9       9  newsgroup emeri signatur rest made write read ...       2   \n",
       "10     10  razi line discuss manag mohammad upon agre edu...       4   \n",
       "23     23  surpris post chaotic jockey develop poster rel...       3   \n",
       "28     28  heaton would host jhuvm figur post miller buck...       2   \n",
       "30     30  california stolen serial subject summari light...       1   \n",
       "32     32  nntp end harley best bar azw harley jump woodw...       1   \n",
       "35     35  eric met com gerald lanza pennant eric astro s...       2   \n",
       "36     36  know strang invit edu event subject world carl...       4   \n",
       "38     38  gov subject articl without green corpor bruce ...       1   \n",
       "41     41  univers ken like back organ news delino well c...       2   \n",
       "69     69  teal eric david servic line smith subject end ...       2   \n",
       "73     73  pullov posit advanc concern pretti mclane part...       2   \n",
       "77     77  file save view like look internet internet sav...       0   \n",
       "85     85  bike edu anyon crazi even includ nntp first lo...       1   \n",
       "95     95  edu edu definet pro pro utexa alfalfa subject ...       4   \n",
       "96     96  dave ucsd subject talk san dept write david ed...       2   \n",
       "100   100  bragg mail mail jbragg mail stat tri morgan li...       2   \n",
       "101   101                 prevent post one line subject tool       1   \n",
       "109   109  tclock feygin assist eecg broadcast univers tr...       4   \n",
       "113   113  post one answer think fear use subject alleghe...       2   \n",
       "\n",
       "     predicted_class  adjusted_class  \n",
       "9                  3               4  \n",
       "10                 2               0  \n",
       "23                 4               1  \n",
       "28                 2               0  \n",
       "30                 2               0  \n",
       "32                 2               0  \n",
       "35                 4               1  \n",
       "36                 2               0  \n",
       "38                 1               3  \n",
       "41                 2               0  \n",
       "69                 4               1  \n",
       "73                 4               1  \n",
       "77                 1               3  \n",
       "85                 2               0  \n",
       "95                 2               0  \n",
       "96                 2               0  \n",
       "100                2               0  \n",
       "101                2               0  \n",
       "109                2               0  \n",
       "113                2               0  "
      ]
     },
     "execution_count": 1223,
     "metadata": {},
     "output_type": "execute_result"
    }
   ],
   "source": [
    "changed_docs_corpus_1.head(20)"
   ]
  },
  {
   "cell_type": "code",
   "execution_count": 1224,
   "metadata": {},
   "outputs": [
    {
     "data": {
      "text/plain": [
       "271"
      ]
     },
     "execution_count": 1224,
     "metadata": {},
     "output_type": "execute_result"
    }
   ],
   "source": [
    "len(changed_docs_corpus_2)"
   ]
  },
  {
   "cell_type": "code",
   "execution_count": 1225,
   "metadata": {},
   "outputs": [
    {
     "data": {
      "text/html": [
       "<div>\n",
       "<style scoped>\n",
       "    .dataframe tbody tr th:only-of-type {\n",
       "        vertical-align: middle;\n",
       "    }\n",
       "\n",
       "    .dataframe tbody tr th {\n",
       "        vertical-align: top;\n",
       "    }\n",
       "\n",
       "    .dataframe thead th {\n",
       "        text-align: right;\n",
       "    }\n",
       "</style>\n",
       "<table border=\"1\" class=\"dataframe\">\n",
       "  <thead>\n",
       "    <tr style=\"text-align: right;\">\n",
       "      <th></th>\n",
       "      <th>index</th>\n",
       "      <th>document</th>\n",
       "      <th>target</th>\n",
       "      <th>predicted_class</th>\n",
       "      <th>adjusted_class</th>\n",
       "    </tr>\n",
       "  </thead>\n",
       "  <tbody>\n",
       "    <tr>\n",
       "      <th>9</th>\n",
       "      <td>9</td>\n",
       "      <td>adob sherri subject taunt file languag ethan p...</td>\n",
       "      <td>2</td>\n",
       "      <td>1</td>\n",
       "      <td>0</td>\n",
       "    </tr>\n",
       "    <tr>\n",
       "      <th>10</th>\n",
       "      <td>10</td>\n",
       "      <td>upon subject news essenti fundament fundamenta...</td>\n",
       "      <td>4</td>\n",
       "      <td>1</td>\n",
       "      <td>0</td>\n",
       "    </tr>\n",
       "    <tr>\n",
       "      <th>18</th>\n",
       "      <td>18</td>\n",
       "      <td>martin innovis rimar went organ mag network vi...</td>\n",
       "      <td>0</td>\n",
       "      <td>4</td>\n",
       "      <td>2</td>\n",
       "    </tr>\n",
       "    <tr>\n",
       "      <th>23</th>\n",
       "      <td>23</td>\n",
       "      <td>group larg softwar safeti subject extra servic...</td>\n",
       "      <td>3</td>\n",
       "      <td>1</td>\n",
       "      <td>0</td>\n",
       "    </tr>\n",
       "    <tr>\n",
       "      <th>46</th>\n",
       "      <td>46</td>\n",
       "      <td>link realiti virtual cloth lit far dig sell mi...</td>\n",
       "      <td>0</td>\n",
       "      <td>3</td>\n",
       "      <td>1</td>\n",
       "    </tr>\n",
       "    <tr>\n",
       "      <th>62</th>\n",
       "      <td>62</td>\n",
       "      <td>point fund post anybodi moratorium contest wit...</td>\n",
       "      <td>3</td>\n",
       "      <td>1</td>\n",
       "      <td>0</td>\n",
       "    </tr>\n",
       "    <tr>\n",
       "      <th>95</th>\n",
       "      <td>95</td>\n",
       "      <td>alphalpha uucp cosmo nntp news frank gateway d...</td>\n",
       "      <td>4</td>\n",
       "      <td>1</td>\n",
       "      <td>0</td>\n",
       "    </tr>\n",
       "    <tr>\n",
       "      <th>100</th>\n",
       "      <td>100</td>\n",
       "      <td>stat mail mail server thank immens memori uc o...</td>\n",
       "      <td>2</td>\n",
       "      <td>1</td>\n",
       "      <td>0</td>\n",
       "    </tr>\n",
       "    <tr>\n",
       "      <th>109</th>\n",
       "      <td>109</td>\n",
       "      <td>israel feygin toronto shortwav subject languag...</td>\n",
       "      <td>4</td>\n",
       "      <td>1</td>\n",
       "      <td>0</td>\n",
       "    </tr>\n",
       "    <tr>\n",
       "      <th>118</th>\n",
       "      <td>118</td>\n",
       "      <td>tandem send proprietari system line tns specia...</td>\n",
       "      <td>3</td>\n",
       "      <td>1</td>\n",
       "      <td>0</td>\n",
       "    </tr>\n",
       "    <tr>\n",
       "      <th>131</th>\n",
       "      <td>131</td>\n",
       "      <td>run schmitt shearson bob robert librari level ...</td>\n",
       "      <td>0</td>\n",
       "      <td>3</td>\n",
       "      <td>1</td>\n",
       "    </tr>\n",
       "    <tr>\n",
       "      <th>160</th>\n",
       "      <td>160</td>\n",
       "      <td>ibm allow ibm aix cur kingston mike winningham...</td>\n",
       "      <td>2</td>\n",
       "      <td>3</td>\n",
       "      <td>1</td>\n",
       "    </tr>\n",
       "    <tr>\n",
       "      <th>178</th>\n",
       "      <td>178</td>\n",
       "      <td>outstand pbs burnabi documentari immedi also l...</td>\n",
       "      <td>4</td>\n",
       "      <td>1</td>\n",
       "      <td>0</td>\n",
       "    </tr>\n",
       "    <tr>\n",
       "      <th>186</th>\n",
       "      <td>186</td>\n",
       "      <td>freedom dont rutger hey decvax prism thing pos...</td>\n",
       "      <td>4</td>\n",
       "      <td>4</td>\n",
       "      <td>2</td>\n",
       "    </tr>\n",
       "    <tr>\n",
       "      <th>210</th>\n",
       "      <td>210</td>\n",
       "      <td>kmembri kmembri viamar articl subject hype mem...</td>\n",
       "      <td>0</td>\n",
       "      <td>3</td>\n",
       "      <td>1</td>\n",
       "    </tr>\n",
       "    <tr>\n",
       "      <th>212</th>\n",
       "      <td>212</td>\n",
       "      <td>line helsinki nebula articl domain given solar...</td>\n",
       "      <td>3</td>\n",
       "      <td>1</td>\n",
       "      <td>0</td>\n",
       "    </tr>\n",
       "    <tr>\n",
       "      <th>236</th>\n",
       "      <td>236</td>\n",
       "      <td>quotat think correct quot remind zealand line ...</td>\n",
       "      <td>3</td>\n",
       "      <td>3</td>\n",
       "      <td>1</td>\n",
       "    </tr>\n",
       "    <tr>\n",
       "      <th>243</th>\n",
       "      <td>243</td>\n",
       "      <td>know much edu possibl lincoln set sourc peter ...</td>\n",
       "      <td>3</td>\n",
       "      <td>1</td>\n",
       "      <td>0</td>\n",
       "    </tr>\n",
       "    <tr>\n",
       "      <th>245</th>\n",
       "      <td>245</td>\n",
       "      <td>mcs apr angel messag prevent southern los shou...</td>\n",
       "      <td>4</td>\n",
       "      <td>4</td>\n",
       "      <td>2</td>\n",
       "    </tr>\n",
       "    <tr>\n",
       "      <th>270</th>\n",
       "      <td>270</td>\n",
       "      <td>spi case citri group staff aren april adl ange...</td>\n",
       "      <td>4</td>\n",
       "      <td>1</td>\n",
       "      <td>0</td>\n",
       "    </tr>\n",
       "  </tbody>\n",
       "</table>\n",
       "</div>"
      ],
      "text/plain": [
       "    index                                           document  target  \\\n",
       "9       9  adob sherri subject taunt file languag ethan p...       2   \n",
       "10     10  upon subject news essenti fundament fundamenta...       4   \n",
       "18     18  martin innovis rimar went organ mag network vi...       0   \n",
       "23     23  group larg softwar safeti subject extra servic...       3   \n",
       "46     46  link realiti virtual cloth lit far dig sell mi...       0   \n",
       "62     62  point fund post anybodi moratorium contest wit...       3   \n",
       "95     95  alphalpha uucp cosmo nntp news frank gateway d...       4   \n",
       "100   100  stat mail mail server thank immens memori uc o...       2   \n",
       "109   109  israel feygin toronto shortwav subject languag...       4   \n",
       "118   118  tandem send proprietari system line tns specia...       3   \n",
       "131   131  run schmitt shearson bob robert librari level ...       0   \n",
       "160   160  ibm allow ibm aix cur kingston mike winningham...       2   \n",
       "178   178  outstand pbs burnabi documentari immedi also l...       4   \n",
       "186   186  freedom dont rutger hey decvax prism thing pos...       4   \n",
       "210   210  kmembri kmembri viamar articl subject hype mem...       0   \n",
       "212   212  line helsinki nebula articl domain given solar...       3   \n",
       "236   236  quotat think correct quot remind zealand line ...       3   \n",
       "243   243  know much edu possibl lincoln set sourc peter ...       3   \n",
       "245   245  mcs apr angel messag prevent southern los shou...       4   \n",
       "270   270  spi case citri group staff aren april adl ange...       4   \n",
       "\n",
       "     predicted_class  adjusted_class  \n",
       "9                  1               0  \n",
       "10                 1               0  \n",
       "18                 4               2  \n",
       "23                 1               0  \n",
       "46                 3               1  \n",
       "62                 1               0  \n",
       "95                 1               0  \n",
       "100                1               0  \n",
       "109                1               0  \n",
       "118                1               0  \n",
       "131                3               1  \n",
       "160                3               1  \n",
       "178                1               0  \n",
       "186                4               2  \n",
       "210                3               1  \n",
       "212                1               0  \n",
       "236                3               1  \n",
       "243                1               0  \n",
       "245                4               2  \n",
       "270                1               0  "
      ]
     },
     "execution_count": 1225,
     "metadata": {},
     "output_type": "execute_result"
    }
   ],
   "source": [
    "changed_docs_corpus_2.head(20)"
   ]
  },
  {
   "cell_type": "markdown",
   "metadata": {},
   "source": [
    "# Identification des documents dont la classification diffère "
   ]
  },
  {
   "cell_type": "code",
   "execution_count": 1218,
   "metadata": {},
   "outputs": [],
   "source": [
    "def changed_docs_12(corpus):\n",
    "    return corpus[corpus['adjusted_class']!=corpus['predicted_class_2']]"
   ]
  },
  {
   "cell_type": "code",
   "execution_count": 1219,
   "metadata": {},
   "outputs": [],
   "source": [
    "changed_docs_corpus_12=changed_docs_12(corpus_12)"
   ]
  },
  {
   "cell_type": "code",
   "execution_count": 1220,
   "metadata": {},
   "outputs": [
    {
     "data": {
      "text/plain": [
       "514"
      ]
     },
     "execution_count": 1220,
     "metadata": {},
     "output_type": "execute_result"
    }
   ],
   "source": [
    "len(changed_docs_corpus_12)"
   ]
  },
  {
   "cell_type": "code",
   "execution_count": 1221,
   "metadata": {},
   "outputs": [
    {
     "data": {
      "text/html": [
       "<div>\n",
       "<style scoped>\n",
       "    .dataframe tbody tr th:only-of-type {\n",
       "        vertical-align: middle;\n",
       "    }\n",
       "\n",
       "    .dataframe tbody tr th {\n",
       "        vertical-align: top;\n",
       "    }\n",
       "\n",
       "    .dataframe thead th {\n",
       "        text-align: right;\n",
       "    }\n",
       "</style>\n",
       "<table border=\"1\" class=\"dataframe\">\n",
       "  <thead>\n",
       "    <tr style=\"text-align: right;\">\n",
       "      <th></th>\n",
       "      <th>index</th>\n",
       "      <th>document</th>\n",
       "      <th>target</th>\n",
       "      <th>predicted_class</th>\n",
       "      <th>adjusted_class</th>\n",
       "      <th>predicted_class_2</th>\n",
       "    </tr>\n",
       "  </thead>\n",
       "  <tbody>\n",
       "    <tr>\n",
       "      <th>9</th>\n",
       "      <td>9</td>\n",
       "      <td>newsgroup emeri signatur rest made write read ...</td>\n",
       "      <td>2</td>\n",
       "      <td>3</td>\n",
       "      <td>2</td>\n",
       "      <td>1</td>\n",
       "    </tr>\n",
       "    <tr>\n",
       "      <th>18</th>\n",
       "      <td>18</td>\n",
       "      <td>viewson sigma mine beauti imho subject bolero ...</td>\n",
       "      <td>0</td>\n",
       "      <td>2</td>\n",
       "      <td>1</td>\n",
       "      <td>4</td>\n",
       "    </tr>\n",
       "    <tr>\n",
       "      <th>23</th>\n",
       "      <td>23</td>\n",
       "      <td>surpris post chaotic jockey develop poster rel...</td>\n",
       "      <td>3</td>\n",
       "      <td>4</td>\n",
       "      <td>3</td>\n",
       "      <td>1</td>\n",
       "    </tr>\n",
       "    <tr>\n",
       "      <th>28</th>\n",
       "      <td>28</td>\n",
       "      <td>heaton would host jhuvm figur post miller buck...</td>\n",
       "      <td>2</td>\n",
       "      <td>2</td>\n",
       "      <td>1</td>\n",
       "      <td>4</td>\n",
       "    </tr>\n",
       "    <tr>\n",
       "      <th>30</th>\n",
       "      <td>30</td>\n",
       "      <td>california stolen serial subject summari light...</td>\n",
       "      <td>1</td>\n",
       "      <td>2</td>\n",
       "      <td>1</td>\n",
       "      <td>3</td>\n",
       "    </tr>\n",
       "    <tr>\n",
       "      <th>32</th>\n",
       "      <td>32</td>\n",
       "      <td>nntp end harley best bar azw harley jump woodw...</td>\n",
       "      <td>1</td>\n",
       "      <td>2</td>\n",
       "      <td>1</td>\n",
       "      <td>3</td>\n",
       "    </tr>\n",
       "    <tr>\n",
       "      <th>35</th>\n",
       "      <td>35</td>\n",
       "      <td>eric met com gerald lanza pennant eric astro s...</td>\n",
       "      <td>2</td>\n",
       "      <td>4</td>\n",
       "      <td>3</td>\n",
       "      <td>4</td>\n",
       "    </tr>\n",
       "    <tr>\n",
       "      <th>36</th>\n",
       "      <td>36</td>\n",
       "      <td>know strang invit edu event subject world carl...</td>\n",
       "      <td>4</td>\n",
       "      <td>2</td>\n",
       "      <td>1</td>\n",
       "      <td>2</td>\n",
       "    </tr>\n",
       "    <tr>\n",
       "      <th>38</th>\n",
       "      <td>38</td>\n",
       "      <td>gov subject articl without green corpor bruce ...</td>\n",
       "      <td>1</td>\n",
       "      <td>1</td>\n",
       "      <td>0</td>\n",
       "      <td>3</td>\n",
       "    </tr>\n",
       "    <tr>\n",
       "      <th>41</th>\n",
       "      <td>41</td>\n",
       "      <td>univers ken like back organ news delino well c...</td>\n",
       "      <td>2</td>\n",
       "      <td>2</td>\n",
       "      <td>1</td>\n",
       "      <td>4</td>\n",
       "    </tr>\n",
       "    <tr>\n",
       "      <th>46</th>\n",
       "      <td>46</td>\n",
       "      <td>chic far would mike mike_peredo vancouv open f...</td>\n",
       "      <td>0</td>\n",
       "      <td>2</td>\n",
       "      <td>1</td>\n",
       "      <td>3</td>\n",
       "    </tr>\n",
       "    <tr>\n",
       "      <th>62</th>\n",
       "      <td>62</td>\n",
       "      <td>mine winner indyvax point idea mention right a...</td>\n",
       "      <td>3</td>\n",
       "      <td>1</td>\n",
       "      <td>0</td>\n",
       "      <td>1</td>\n",
       "    </tr>\n",
       "    <tr>\n",
       "      <th>69</th>\n",
       "      <td>69</td>\n",
       "      <td>teal eric david servic line smith subject end ...</td>\n",
       "      <td>2</td>\n",
       "      <td>4</td>\n",
       "      <td>3</td>\n",
       "      <td>4</td>\n",
       "    </tr>\n",
       "    <tr>\n",
       "      <th>73</th>\n",
       "      <td>73</td>\n",
       "      <td>pullov posit advanc concern pretti mclane part...</td>\n",
       "      <td>2</td>\n",
       "      <td>4</td>\n",
       "      <td>3</td>\n",
       "      <td>4</td>\n",
       "    </tr>\n",
       "    <tr>\n",
       "      <th>77</th>\n",
       "      <td>77</td>\n",
       "      <td>file save view like look internet internet sav...</td>\n",
       "      <td>0</td>\n",
       "      <td>1</td>\n",
       "      <td>0</td>\n",
       "      <td>1</td>\n",
       "    </tr>\n",
       "    <tr>\n",
       "      <th>85</th>\n",
       "      <td>85</td>\n",
       "      <td>bike edu anyon crazi even includ nntp first lo...</td>\n",
       "      <td>1</td>\n",
       "      <td>2</td>\n",
       "      <td>1</td>\n",
       "      <td>3</td>\n",
       "    </tr>\n",
       "    <tr>\n",
       "      <th>96</th>\n",
       "      <td>96</td>\n",
       "      <td>dave ucsd subject talk san dept write david ed...</td>\n",
       "      <td>2</td>\n",
       "      <td>2</td>\n",
       "      <td>1</td>\n",
       "      <td>4</td>\n",
       "    </tr>\n",
       "    <tr>\n",
       "      <th>101</th>\n",
       "      <td>101</td>\n",
       "      <td>prevent post one line subject tool</td>\n",
       "      <td>1</td>\n",
       "      <td>2</td>\n",
       "      <td>1</td>\n",
       "      <td>3</td>\n",
       "    </tr>\n",
       "    <tr>\n",
       "      <th>113</th>\n",
       "      <td>113</td>\n",
       "      <td>post one answer think fear use subject alleghe...</td>\n",
       "      <td>2</td>\n",
       "      <td>2</td>\n",
       "      <td>1</td>\n",
       "      <td>4</td>\n",
       "    </tr>\n",
       "    <tr>\n",
       "      <th>116</th>\n",
       "      <td>116</td>\n",
       "      <td>thermodynam dichotomi someth west dream dream ...</td>\n",
       "      <td>3</td>\n",
       "      <td>3</td>\n",
       "      <td>2</td>\n",
       "      <td>0</td>\n",
       "    </tr>\n",
       "  </tbody>\n",
       "</table>\n",
       "</div>"
      ],
      "text/plain": [
       "    index                                           document  target  \\\n",
       "9       9  newsgroup emeri signatur rest made write read ...       2   \n",
       "18     18  viewson sigma mine beauti imho subject bolero ...       0   \n",
       "23     23  surpris post chaotic jockey develop poster rel...       3   \n",
       "28     28  heaton would host jhuvm figur post miller buck...       2   \n",
       "30     30  california stolen serial subject summari light...       1   \n",
       "32     32  nntp end harley best bar azw harley jump woodw...       1   \n",
       "35     35  eric met com gerald lanza pennant eric astro s...       2   \n",
       "36     36  know strang invit edu event subject world carl...       4   \n",
       "38     38  gov subject articl without green corpor bruce ...       1   \n",
       "41     41  univers ken like back organ news delino well c...       2   \n",
       "46     46  chic far would mike mike_peredo vancouv open f...       0   \n",
       "62     62  mine winner indyvax point idea mention right a...       3   \n",
       "69     69  teal eric david servic line smith subject end ...       2   \n",
       "73     73  pullov posit advanc concern pretti mclane part...       2   \n",
       "77     77  file save view like look internet internet sav...       0   \n",
       "85     85  bike edu anyon crazi even includ nntp first lo...       1   \n",
       "96     96  dave ucsd subject talk san dept write david ed...       2   \n",
       "101   101                 prevent post one line subject tool       1   \n",
       "113   113  post one answer think fear use subject alleghe...       2   \n",
       "116   116  thermodynam dichotomi someth west dream dream ...       3   \n",
       "\n",
       "     predicted_class  adjusted_class  predicted_class_2  \n",
       "9                  3               2                  1  \n",
       "18                 2               1                  4  \n",
       "23                 4               3                  1  \n",
       "28                 2               1                  4  \n",
       "30                 2               1                  3  \n",
       "32                 2               1                  3  \n",
       "35                 4               3                  4  \n",
       "36                 2               1                  2  \n",
       "38                 1               0                  3  \n",
       "41                 2               1                  4  \n",
       "46                 2               1                  3  \n",
       "62                 1               0                  1  \n",
       "69                 4               3                  4  \n",
       "73                 4               3                  4  \n",
       "77                 1               0                  1  \n",
       "85                 2               1                  3  \n",
       "96                 2               1                  4  \n",
       "101                2               1                  3  \n",
       "113                2               1                  4  \n",
       "116                3               2                  0  "
      ]
     },
     "execution_count": 1221,
     "metadata": {},
     "output_type": "execute_result"
    }
   ],
   "source": [
    "changed_docs_corpus_12.head(20)"
   ]
  },
  {
   "cell_type": "code",
   "execution_count": null,
   "metadata": {},
   "outputs": [],
   "source": []
  }
 ],
 "metadata": {
  "kernelspec": {
   "display_name": "Python 3",
   "language": "python",
   "name": "python3"
  },
  "language_info": {
   "codemirror_mode": {
    "name": "ipython",
    "version": 3
   },
   "file_extension": ".py",
   "mimetype": "text/x-python",
   "name": "python",
   "nbconvert_exporter": "python",
   "pygments_lexer": "ipython3",
   "version": "3.6.6"
  }
 },
 "nbformat": 4,
 "nbformat_minor": 2
}
